{
 "cells": [
  {
   "cell_type": "code",
   "execution_count": 1,
   "metadata": {},
   "outputs": [],
   "source": [
    "import pandas as pd\n",
    "import numpy as np\n",
    "from matplotlib import pyplot as plt\n",
    "import matplotlib.gridspec as gridspec"
   ]
  },
  {
   "cell_type": "markdown",
   "metadata": {},
   "source": [
    "## Commits"
   ]
  },
  {
   "cell_type": "code",
   "execution_count": 2,
   "metadata": {},
   "outputs": [],
   "source": [
    "file_name = \"../data/CommitFrequency.csv\"\n",
    "commit_freq_all_df = pd.read_csv(file_name)"
   ]
  },
  {
   "cell_type": "code",
   "execution_count": 3,
   "metadata": {},
   "outputs": [
    {
     "data": {
      "text/plain": [
       "array([507,   2,   3, ...,   1,   2,   8])"
      ]
     },
     "execution_count": 3,
     "metadata": {},
     "output_type": "execute_result"
    }
   ],
   "source": [
    "commit_freq_all_df.head(n=6)\n",
    "np.array(commit_freq_all_df.iloc[:, 0])"
   ]
  },
  {
   "cell_type": "code",
   "execution_count": 4,
   "metadata": {},
   "outputs": [],
   "source": [
    "def plot_all_commits(df:pd.DataFrame):\n",
    "    ## Breaking Y Axis:\n",
    "    ## https://stackoverflow.com/questions/32185411/break-in-x-axis-of-matplotlib\n",
    "    plt.figure(figsize=(6,6))\n",
    "    plt.hist(np.array(df.iloc[:, 0]), bins=50)\n",
    "    plt.title(\"Code revisions per SO link\")\n",
    "    plt.xlabel(\"Number of Revisions\")\n",
    "    plt.ylabel(\"Number of so References\")"
   ]
  },
  {
   "cell_type": "code",
   "execution_count": 5,
   "metadata": {},
   "outputs": [
    {
     "data": {
      "image/png": "[encoded data removed]",
      "text/plain": [
       "<Figure size 432x432 with 1 Axes>"
      ]
     },
     "metadata": {
      "needs_background": "light"
     },
     "output_type": "display_data"
    }
   ],
   "source": [
    "plot_all_commits(commit_freq_all_df)"
   ]
  },
  {
   "cell_type": "code",
   "execution_count": 6,
   "metadata": {},
   "outputs": [],
   "source": [
    "x = np.linspace(0,10,100)"
   ]
  },
  {
   "cell_type": "code",
   "execution_count": 7,
   "metadata": {},
   "outputs": [
    {
     "data": {
      "text/plain": [
       "array([ 0.        ,  0.1010101 ,  0.2020202 ,  0.3030303 ,  0.4040404 ,\n",
       "        0.50505051,  0.60606061,  0.70707071,  0.80808081,  0.90909091,\n",
       "        1.01010101,  1.11111111,  1.21212121,  1.31313131,  1.41414141,\n",
       "        1.51515152,  1.61616162,  1.71717172,  1.81818182,  1.91919192,\n",
       "        2.02020202,  2.12121212,  2.22222222,  2.32323232,  2.42424242,\n",
       "        2.52525253,  2.62626263,  2.72727273,  2.82828283,  2.92929293,\n",
       "        3.03030303,  3.13131313,  3.23232323,  3.33333333,  3.43434343,\n",
       "        3.53535354,  3.63636364,  3.73737374,  3.83838384,  3.93939394,\n",
       "        4.04040404,  4.14141414,  4.24242424,  4.34343434,  4.44444444,\n",
       "        4.54545455,  4.64646465,  4.74747475,  4.84848485,  4.94949495,\n",
       "        5.05050505,  5.15151515,  5.25252525,  5.35353535,  5.45454545,\n",
       "        5.55555556,  5.65656566,  5.75757576,  5.85858586,  5.95959596,\n",
       "        6.06060606,  6.16161616,  6.26262626,  6.36363636,  6.46464646,\n",
       "        6.56565657,  6.66666667,  6.76767677,  6.86868687,  6.96969697,\n",
       "        7.07070707,  7.17171717,  7.27272727,  7.37373737,  7.47474747,\n",
       "        7.57575758,  7.67676768,  7.77777778,  7.87878788,  7.97979798,\n",
       "        8.08080808,  8.18181818,  8.28282828,  8.38383838,  8.48484848,\n",
       "        8.58585859,  8.68686869,  8.78787879,  8.88888889,  8.98989899,\n",
       "        9.09090909,  9.19191919,  9.29292929,  9.39393939,  9.49494949,\n",
       "        9.5959596 ,  9.6969697 ,  9.7979798 ,  9.8989899 , 10.        ])"
      ]
     },
     "execution_count": 7,
     "metadata": {},
     "output_type": "execute_result"
    }
   ],
   "source": [
    "x"
   ]
  },
  {
   "cell_type": "code",
   "execution_count": 8,
   "metadata": {},
   "outputs": [],
   "source": [
    "def plot_histogram(df:pd.DataFrame, xlim, ylim, x_breaks, y_breaks,\n",
    "                   xlabel=\"\", ylabel=\"\", outfile=\"abc.png\", title=\"\", sections=[0,1,2,3]):\n",
    "    fig = plt.figure(figsize=(10,10))\n",
    "    gs1 = gridspec.GridSpec(2, 2, figure=fig)\n",
    "    gs1.update(wspace=0.07, hspace=0.05) \n",
    "    \n",
    "    \n",
    "    # Bins to control\n",
    "    binwidth = 1\n",
    "    bins=range(0, 550 + binwidth, binwidth)\n",
    "    \n",
    "    \n",
    "    # zoom-in / limit the view to different portions of the data\n",
    "    lower_x_break = x_breaks[0]\n",
    "    upper_x_break = x_breaks[1]\n",
    "    lower_y_break = y_breaks[0]\n",
    "    upper_y_break = y_breaks[1]\n",
    "    \n",
    "    # set the spacing between axes. \n",
    "    ## Following : https://matplotlib.org/examples/pylab_examples/broken_axis.html\n",
    "    ## And https://stackoverflow.com/questions/20057260/how-to-remove-gaps-between-subplots-in-matplotlib/45487279\n",
    "    \n",
    "    # If we were to simply plot pts, we'd lose most of the interesting\n",
    "    # details due to the outliers. So let's 'break' or 'cut-out' the y-axis\n",
    "    # into two portions - use the top (ax) for the outliers, and the bottom\n",
    "    # (ax2) for the details of the majority of our data\n",
    "    \n",
    "    # | 0 | 1 |\n",
    "    #  ______\n",
    "    # | 2 | 3 |\n",
    "    if (0 in sections):\n",
    "        ax0 = plt.subplot(gs1[0])\n",
    "        ax0.hist(np.array(df.iloc[:, 0]), bins) #color='orange'\n",
    "        ax0.set_ylim(upper_y_break, ylim)  # outliers only\n",
    "        ax0.set_xlim(0, lower_x_break)\n",
    "        if 2 in sections:\n",
    "            ax0.spines['bottom'].set_visible(False)\n",
    "        ax0.xaxis.tick_top()\n",
    "        ax0.tick_params(labeltop='off')  # don't put tick labels at the top\n",
    "        if 1 in sections:\n",
    "            ax0.spines['right'].set_visible(False)\n",
    "        ax0.yaxis.tick_left()\n",
    "        \n",
    "    if 1 in sections:\n",
    "        ax1 = plt.subplot(gs1[1])\n",
    "        ax1.hist(np.array(df.iloc[:, 0]), bins)\n",
    "        ax1.set_ylim(upper_y_break, ylim)\n",
    "        ax1.set_xlim(upper_x_break, xlim)\n",
    "        if (3 in sections) :\n",
    "            ax1.spines['bottom'].set_visible(False)\n",
    "        ax1.xaxis.tick_top()\n",
    "    \n",
    "        ax1.tick_params(labeltop='off')  # don't put tick labels at the top\n",
    "        if 0 in sections:\n",
    "            ax1.spines['left'].set_visible(False)\n",
    "        ax1.yaxis.tick_right()\n",
    "        \n",
    "    if 2 in sections:   \n",
    "        ax2 = plt.subplot(gs1[2])\n",
    "        ax2.hist(np.array(df.iloc[:, 0]), bins) #color='orange'\n",
    "        ax2.set_xlim(0, lower_x_break)\n",
    "        ax2.set_ylim(0, lower_y_break)  # most of the data\n",
    "        if 0 in sections:\n",
    "            ax2.spines['top'].set_visible(False)\n",
    "        ax2.xaxis.tick_bottom()\n",
    "        if 3 in sections:\n",
    "            ax2.spines['right'].set_visible(False)\n",
    "        ax2.yaxis.tick_left()\n",
    "        \n",
    "    if 3 in sections:\n",
    "        ax3 = plt.subplot(gs1[3])\n",
    "        #f, (ax, ax2) = plt.subplots(2, 1, sharex=True, figsize=(10,10))\n",
    "        # plot the same data on both axes\n",
    "        ax3.hist(np.array(df.iloc[:, 0]), bins)\n",
    "        ax3.set_ylim(0, lower_y_break)\n",
    "        ax3.set_xlim(upper_x_break, xlim)\n",
    "        if 1 in sections:\n",
    "            ax3.spines['top'].set_visible(False)\n",
    "        ax3.xaxis.tick_bottom()\n",
    "        if 2 in sections:\n",
    "            ax3.spines['left'].set_visible(False)\n",
    "        ax3.yaxis.tick_right()\n",
    "    # This looks pretty good, and was fairly painless, but you can get that\n",
    "    # cut-out diagonal lines look with just a bit more work. The important\n",
    "    # thing to know here is that in axes coordinates, which are always\n",
    "    # between 0-1, spine endpoints are at these locations (0,0), (0,1),\n",
    "    # (1,0), and (1,1).  Thus, we just need to put the diagonals in the\n",
    "    # appropriate corners of each of our axes, and so long as we use the\n",
    "    # right transform and disable clipping.\n",
    "\n",
    "    d = .005  # how big to make the diagonal lines in axes coordinates\n",
    "    # arguments to pass to plot, just so we don't keep repeating them\n",
    "    if 0 in sections:\n",
    "        kwargs = dict(transform=ax0.transAxes, color='k', clip_on=False)\n",
    "        ax0.plot((-d, +d), (-d, +d), **kwargs)        # top-left diagonal\n",
    "        ax0.plot((1-d, 1+d), (1-d, 1+d), **kwargs)\n",
    "    \n",
    "    \n",
    "    if (1 in sections) :\n",
    "        kwargs.update(transform=ax1.transAxes)  # switch to the bottom axes\n",
    "        ax1.plot((1 - d, 1 + d), (-d, +d), **kwargs)  # top-right diagonal\n",
    "        ax1.plot(( - d,  + d), (1-d, 1+d), **kwargs)\n",
    "    \n",
    "    \n",
    "    if (2 in sections) :\n",
    "        kwargs.update(transform=ax2.transAxes)  # switch to the bottom axes\n",
    "        ax2.plot((-d, +d), (1 - d, 1 + d), **kwargs)  # bottom-left diagonal\n",
    "        ax2.plot((1-d, 1+d), (- d, + d), **kwargs)  # bottom-left diagonal\n",
    "    \n",
    "    \n",
    "    if (3 in sections) :\n",
    "        kwargs.update(transform=ax3.transAxes)  # switch to the bottom axes\n",
    "        ax3.plot((1 - d, 1 + d), (1 - d, 1 + d), **kwargs)  # bottom-right diagonal\n",
    "        ax3.plot((- d,  + d), ( - d,  + d), **kwargs)\n",
    "    #     kwargs = dict(transform=ax0.transAxes, color='k', clip_on=False)\n",
    "    #     ax0.plot((-d, +d), (-d, +d), **kwargs)        # top-left diagonal\n",
    "    \n",
    "\n",
    "    # What's cool about this is that now if we vary the distance between\n",
    "    # ax and ax2 via f.subplots_adjust(hspace=...) or plt.subplot_tool(),\n",
    "    # the diagonal lines will move accordingly, and stay right at the tips\n",
    "    # of the spines they are 'breaking'\n",
    "    \n",
    "    \n",
    "    ### Labels\n",
    "    ax2.set_ylabel(ylabel, linespacing=3)\n",
    "    ax2.set_xlabel(xlabel, linespacing=3)\n",
    "    \n",
    "    fig.suptitle(title)\n",
    "#     plt.show()\n",
    "    plt.savefig(outfile)\n"
   ]
  },
  {
   "cell_type": "code",
   "execution_count": 9,
   "metadata": {},
   "outputs": [
    {
     "data": {
      "image/png": "[encoded data removed]",
      "text/plain": [
       "<Figure size 720x720 with 4 Axes>"
      ]
     },
     "metadata": {
      "needs_background": "light"
     },
     "output_type": "display_data"
    }
   ],
   "source": [
    "plot_histogram(commit_freq_all_df, xlim=600,\n",
    "               ylim=27500, x_breaks=[80, 520], y_breaks=[1000, 25000],\n",
    "              xlabel='# of Git revisions', ylabel= '# re-used snippets',\n",
    "               outfile='GHRvsSOR.png',\n",
    "              title=\"\")"
   ]
  },
  {
   "cell_type": "code",
   "execution_count": 10,
   "metadata": {},
   "outputs": [],
   "source": [
    "two_commits_df = commit_freq_all_df[commit_freq_all_df.iloc[:, 0] >= 2]"
   ]
  },
  {
   "cell_type": "code",
   "execution_count": 11,
   "metadata": {},
   "outputs": [
    {
     "data": {
      "text/html": [
       "<div>\n",
       "<style scoped>\n",
       "    .dataframe tbody tr th:only-of-type {\n",
       "        vertical-align: middle;\n",
       "    }\n",
       "\n",
       "    .dataframe tbody tr th {\n",
       "        vertical-align: top;\n",
       "    }\n",
       "\n",
       "    .dataframe thead th {\n",
       "        text-align: right;\n",
       "    }\n",
       "</style>\n",
       "<table border=\"1\" class=\"dataframe\">\n",
       "  <thead>\n",
       "    <tr style=\"text-align: right;\">\n",
       "      <th></th>\n",
       "      <th>CommitCount</th>\n",
       "    </tr>\n",
       "  </thead>\n",
       "  <tbody>\n",
       "    <tr>\n",
       "      <th>0</th>\n",
       "      <td>507</td>\n",
       "    </tr>\n",
       "    <tr>\n",
       "      <th>1</th>\n",
       "      <td>2</td>\n",
       "    </tr>\n",
       "    <tr>\n",
       "      <th>2</th>\n",
       "      <td>3</td>\n",
       "    </tr>\n",
       "    <tr>\n",
       "      <th>4</th>\n",
       "      <td>3</td>\n",
       "    </tr>\n",
       "    <tr>\n",
       "      <th>5</th>\n",
       "      <td>2</td>\n",
       "    </tr>\n",
       "    <tr>\n",
       "      <th>6</th>\n",
       "      <td>2</td>\n",
       "    </tr>\n",
       "    <tr>\n",
       "      <th>11</th>\n",
       "      <td>3</td>\n",
       "    </tr>\n",
       "    <tr>\n",
       "      <th>14</th>\n",
       "      <td>2</td>\n",
       "    </tr>\n",
       "    <tr>\n",
       "      <th>20</th>\n",
       "      <td>2</td>\n",
       "    </tr>\n",
       "    <tr>\n",
       "      <th>22</th>\n",
       "      <td>7</td>\n",
       "    </tr>\n",
       "    <tr>\n",
       "      <th>23</th>\n",
       "      <td>17</td>\n",
       "    </tr>\n",
       "    <tr>\n",
       "      <th>28</th>\n",
       "      <td>13</td>\n",
       "    </tr>\n",
       "    <tr>\n",
       "      <th>31</th>\n",
       "      <td>3</td>\n",
       "    </tr>\n",
       "    <tr>\n",
       "      <th>32</th>\n",
       "      <td>2</td>\n",
       "    </tr>\n",
       "    <tr>\n",
       "      <th>39</th>\n",
       "      <td>2</td>\n",
       "    </tr>\n",
       "    <tr>\n",
       "      <th>43</th>\n",
       "      <td>9</td>\n",
       "    </tr>\n",
       "    <tr>\n",
       "      <th>62</th>\n",
       "      <td>4</td>\n",
       "    </tr>\n",
       "    <tr>\n",
       "      <th>70</th>\n",
       "      <td>181</td>\n",
       "    </tr>\n",
       "    <tr>\n",
       "      <th>73</th>\n",
       "      <td>3</td>\n",
       "    </tr>\n",
       "    <tr>\n",
       "      <th>74</th>\n",
       "      <td>2</td>\n",
       "    </tr>\n",
       "    <tr>\n",
       "      <th>76</th>\n",
       "      <td>2</td>\n",
       "    </tr>\n",
       "    <tr>\n",
       "      <th>83</th>\n",
       "      <td>2</td>\n",
       "    </tr>\n",
       "    <tr>\n",
       "      <th>85</th>\n",
       "      <td>2</td>\n",
       "    </tr>\n",
       "    <tr>\n",
       "      <th>101</th>\n",
       "      <td>2</td>\n",
       "    </tr>\n",
       "    <tr>\n",
       "      <th>105</th>\n",
       "      <td>5</td>\n",
       "    </tr>\n",
       "    <tr>\n",
       "      <th>111</th>\n",
       "      <td>4</td>\n",
       "    </tr>\n",
       "    <tr>\n",
       "      <th>117</th>\n",
       "      <td>2</td>\n",
       "    </tr>\n",
       "    <tr>\n",
       "      <th>118</th>\n",
       "      <td>5</td>\n",
       "    </tr>\n",
       "    <tr>\n",
       "      <th>119</th>\n",
       "      <td>2</td>\n",
       "    </tr>\n",
       "    <tr>\n",
       "      <th>312</th>\n",
       "      <td>2</td>\n",
       "    </tr>\n",
       "    <tr>\n",
       "      <th>...</th>\n",
       "      <td>...</td>\n",
       "    </tr>\n",
       "    <tr>\n",
       "      <th>33262</th>\n",
       "      <td>5</td>\n",
       "    </tr>\n",
       "    <tr>\n",
       "      <th>33263</th>\n",
       "      <td>4</td>\n",
       "    </tr>\n",
       "    <tr>\n",
       "      <th>33275</th>\n",
       "      <td>10</td>\n",
       "    </tr>\n",
       "    <tr>\n",
       "      <th>33276</th>\n",
       "      <td>6</td>\n",
       "    </tr>\n",
       "    <tr>\n",
       "      <th>33277</th>\n",
       "      <td>8</td>\n",
       "    </tr>\n",
       "    <tr>\n",
       "      <th>33278</th>\n",
       "      <td>5</td>\n",
       "    </tr>\n",
       "    <tr>\n",
       "      <th>33280</th>\n",
       "      <td>5</td>\n",
       "    </tr>\n",
       "    <tr>\n",
       "      <th>33281</th>\n",
       "      <td>2</td>\n",
       "    </tr>\n",
       "    <tr>\n",
       "      <th>33282</th>\n",
       "      <td>10</td>\n",
       "    </tr>\n",
       "    <tr>\n",
       "      <th>33283</th>\n",
       "      <td>4</td>\n",
       "    </tr>\n",
       "    <tr>\n",
       "      <th>33284</th>\n",
       "      <td>4</td>\n",
       "    </tr>\n",
       "    <tr>\n",
       "      <th>33286</th>\n",
       "      <td>19</td>\n",
       "    </tr>\n",
       "    <tr>\n",
       "      <th>33290</th>\n",
       "      <td>3</td>\n",
       "    </tr>\n",
       "    <tr>\n",
       "      <th>33292</th>\n",
       "      <td>3</td>\n",
       "    </tr>\n",
       "    <tr>\n",
       "      <th>33303</th>\n",
       "      <td>4</td>\n",
       "    </tr>\n",
       "    <tr>\n",
       "      <th>33305</th>\n",
       "      <td>2</td>\n",
       "    </tr>\n",
       "    <tr>\n",
       "      <th>33307</th>\n",
       "      <td>3</td>\n",
       "    </tr>\n",
       "    <tr>\n",
       "      <th>33312</th>\n",
       "      <td>2</td>\n",
       "    </tr>\n",
       "    <tr>\n",
       "      <th>33316</th>\n",
       "      <td>5</td>\n",
       "    </tr>\n",
       "    <tr>\n",
       "      <th>33320</th>\n",
       "      <td>2</td>\n",
       "    </tr>\n",
       "    <tr>\n",
       "      <th>33323</th>\n",
       "      <td>4</td>\n",
       "    </tr>\n",
       "    <tr>\n",
       "      <th>33324</th>\n",
       "      <td>14</td>\n",
       "    </tr>\n",
       "    <tr>\n",
       "      <th>33327</th>\n",
       "      <td>20</td>\n",
       "    </tr>\n",
       "    <tr>\n",
       "      <th>33330</th>\n",
       "      <td>2</td>\n",
       "    </tr>\n",
       "    <tr>\n",
       "      <th>33331</th>\n",
       "      <td>7</td>\n",
       "    </tr>\n",
       "    <tr>\n",
       "      <th>33339</th>\n",
       "      <td>3</td>\n",
       "    </tr>\n",
       "    <tr>\n",
       "      <th>33357</th>\n",
       "      <td>3</td>\n",
       "    </tr>\n",
       "    <tr>\n",
       "      <th>33358</th>\n",
       "      <td>26</td>\n",
       "    </tr>\n",
       "    <tr>\n",
       "      <th>33374</th>\n",
       "      <td>2</td>\n",
       "    </tr>\n",
       "    <tr>\n",
       "      <th>33375</th>\n",
       "      <td>8</td>\n",
       "    </tr>\n",
       "  </tbody>\n",
       "</table>\n",
       "<p>7046 rows × 1 columns</p>\n",
       "</div>"
      ],
      "text/plain": [
       "       CommitCount\n",
       "0              507\n",
       "1                2\n",
       "2                3\n",
       "4                3\n",
       "5                2\n",
       "6                2\n",
       "11               3\n",
       "14               2\n",
       "20               2\n",
       "22               7\n",
       "23              17\n",
       "28              13\n",
       "31               3\n",
       "32               2\n",
       "39               2\n",
       "43               9\n",
       "62               4\n",
       "70             181\n",
       "73               3\n",
       "74               2\n",
       "76               2\n",
       "83               2\n",
       "85               2\n",
       "101              2\n",
       "105              5\n",
       "111              4\n",
       "117              2\n",
       "118              5\n",
       "119              2\n",
       "312              2\n",
       "...            ...\n",
       "33262            5\n",
       "33263            4\n",
       "33275           10\n",
       "33276            6\n",
       "33277            8\n",
       "33278            5\n",
       "33280            5\n",
       "33281            2\n",
       "33282           10\n",
       "33283            4\n",
       "33284            4\n",
       "33286           19\n",
       "33290            3\n",
       "33292            3\n",
       "33303            4\n",
       "33305            2\n",
       "33307            3\n",
       "33312            2\n",
       "33316            5\n",
       "33320            2\n",
       "33323            4\n",
       "33324           14\n",
       "33327           20\n",
       "33330            2\n",
       "33331            7\n",
       "33339            3\n",
       "33357            3\n",
       "33358           26\n",
       "33374            2\n",
       "33375            8\n",
       "\n",
       "[7046 rows x 1 columns]"
      ]
     },
     "execution_count": 11,
     "metadata": {},
     "output_type": "execute_result"
    }
   ],
   "source": [
    "two_commits_df"
   ]
  },
  {
   "cell_type": "code",
   "execution_count": null,
   "metadata": {},
   "outputs": [],
   "source": [
    "plot_histogram(two_commits_df, xlim=100,\n",
    "               ylim=3000, x_breaks=[40, 50], y_breaks=[1200, 2500],\n",
    "               xlabel='# of Git revisions', ylabel= '# re-used snippets',\n",
    "               outfile='GHRvsSOR2Commits.png',\n",
    "              title=\"\",\n",
    "              sections=[0,2])"
   ]
  },
  {
   "cell_type": "code",
   "execution_count": null,
   "metadata": {},
   "outputs": [],
   "source": [
    "len(commit_freq_all_df)"
   ]
  },
  {
   "cell_type": "code",
   "execution_count": null,
   "metadata": {},
   "outputs": [],
   "source": [
    "len(commit_freq_all_df) - len(two_commits_df)"
   ]
  },
  {
   "cell_type": "markdown",
   "metadata": {},
   "source": [
    "## Edit count for SO posts\n"
   ]
  },
  {
   "cell_type": "code",
   "execution_count": null,
   "metadata": {},
   "outputs": [],
   "source": [
    "so_df = pd.read_csv(\"/Users/saraj/Desktop/TempThesisDataFiles/PostEditCount.csv\")"
   ]
  },
  {
   "cell_type": "code",
   "execution_count": null,
   "metadata": {},
   "outputs": [],
   "source": [
    "so_df.head()"
   ]
  },
  {
   "cell_type": "code",
   "execution_count": null,
   "metadata": {},
   "outputs": [],
   "source": [
    "new_df = so_df[['EditCount']]"
   ]
  },
  {
   "cell_type": "code",
   "execution_count": null,
   "metadata": {},
   "outputs": [],
   "source": [
    "new_df.head()"
   ]
  },
  {
   "cell_type": "code",
   "execution_count": null,
   "metadata": {},
   "outputs": [],
   "source": [
    "plot_histogram(new_df, xlim=100,\n",
    "               ylim=600, x_breaks=[40, 50], y_breaks=[300, 400],\n",
    "               xlabel='# edits', ylabel='# SO Snippets',\n",
    "               outfile='SOEdits.png',\n",
    "              title=\"\",\n",
    "              sections=[0,2])"
   ]
  },
  {
   "cell_type": "markdown",
   "metadata": {},
   "source": [
    "## Plotting Orig Author vs Non Orig Authors "
   ]
  },
  {
   "cell_type": "code",
   "execution_count": null,
   "metadata": {},
   "outputs": [],
   "source": [
    "def plot_authors_distribution(df:pd.DataFrame, col_names:list, xlabel, ylabel,\n",
    "                              outfile:str=\"SomeName\", color=None, esc=None):\n",
    "    assert len(col_names) == 2, \"Need 2 column names exactly\"\n",
    "    percentage_authors = df[col_names[0]] / df[col_names[1]]\n",
    "    plt.figure(figsize=(10,10))\n",
    "    if not color:\n",
    "        color = 'skyblue'\n",
    "        esc = \"darkblue\"\n",
    "    plt.hist(percentage_authors, bins=50, color=color, ec=esc)\n",
    "    plt.xlabel(xlabel)\n",
    "    plt.ylabel(ylabel)\n",
    "    \n",
    "    plt.savefig(outfile)\n",
    "    plt.show()\n",
    "## Test\n"
   ]
  },
  {
   "cell_type": "code",
   "execution_count": null,
   "metadata": {},
   "outputs": [],
   "source": [
    "dir_name = \"/Users/saraj/PycharmProjects/AnalysisScripts/Data/\"\n",
    "file_name = \"SOOrigVsNonOrigAuthors.csv\"\n",
    "SO_authors_df = pd.read_csv(dir_name + file_name)"
   ]
  },
  {
   "cell_type": "code",
   "execution_count": null,
   "metadata": {},
   "outputs": [],
   "source": [
    "SO_authors_df.head()"
   ]
  },
  {
   "cell_type": "code",
   "execution_count": null,
   "metadata": {},
   "outputs": [],
   "source": [
    "plot_authors_distribution(SO_authors_df,\n",
    "                          [\"OrigAuthorEditsCnt\", \"TotalEdits\"],\n",
    "                          xlabel=\"% Edits by original Author\",\n",
    "                         ylabel=\"Number of SO posts\", outfile=\"SOOrigVsNonOrigAuthors.png\",\n",
    "                          color='orange', esc='darkorange')"
   ]
  },
  {
   "cell_type": "code",
   "execution_count": null,
   "metadata": {},
   "outputs": [],
   "source": [
    "gh_author_file_name = \"OrigAuthorVsNonOrigAuthor.csv\"\n",
    "GH_author_df = pd.read_csv(dir_name + gh_author_file_name)\n",
    "one_commit_df = GH_author_df['NumberOfCommits'] == 1\n",
    "GH_author_df_refined = GH_author_df[~one_commit_df]\n",
    "GH_author_df_refined.head()"
   ]
  },
  {
   "cell_type": "code",
   "execution_count": null,
   "metadata": {},
   "outputs": [],
   "source": [
    "plot_authors_distribution(GH_author_df_refined,\n",
    "                          [\"Commits By Orig Author\", \"NumberOfCommits\"],\n",
    "                          xlabel=\"% revisions by original Author\",\n",
    "                         ylabel=\"Number of Code Snippets\", \n",
    "                          outfile=\"GHOrigVsNonOrigAuthors.png\", color='blue', esc='darkblue')"
   ]
  },
  {
   "cell_type": "code",
   "execution_count": null,
   "metadata": {},
   "outputs": [],
   "source": [
    "total_cnt = 0\n",
    "heat_map = {}\n",
    "author_ratio_post_map = {}\n",
    "for index, row in GH_author_df_refined.iterrows():\n",
    "    number_of_edits = row['NumberOfCommits']\n",
    "    percent_of_orig = row['Commits By Orig Author'] / number_of_edits\n",
    "    percent_of_orig = str(round(percent_of_orig, 2))\n",
    "    if percent_of_orig in author_ratio_post_map.keys():\n",
    "        author_ratio_post_map[percent_of_orig] += 1\n",
    "    else:\n",
    "        author_ratio_post_map[percent_of_orig] = 1\n",
    "    total_cnt += 1\n",
    "        \n",
    "# for key in author_ratio_post_map.keys():\n",
    "#     heat_map[(key, author_ratio_post_map[key])] = float(key)\n",
    "for index, row in GH_author_df_refined.iterrows():\n",
    "    number_of_edits = row['NumberOfCommits']\n",
    "    class_of_edits = 7 if number_of_edits >= 7 else number_of_edits\n",
    "    percent_of_orig = row['Commits By Orig Author'] / number_of_edits\n",
    "    percent_of_orig = str(round(percent_of_orig, 2))\n",
    "    heat_map[(percent_of_orig, author_ratio_post_map[percent_of_orig])] = class_of_edits\n",
    "\n",
    "    "
   ]
  },
  {
   "cell_type": "code",
   "execution_count": null,
   "metadata": {},
   "outputs": [],
   "source": [
    "heat_map.values()"
   ]
  },
  {
   "cell_type": "code",
   "execution_count": null,
   "metadata": {},
   "outputs": [],
   "source": [
    "ser = pd.Series(list(heat_map.values()),\n",
    "                  index=pd.MultiIndex.from_tuples(heat_map.keys()))\n",
    "heat_df = ser.unstack().fillna(0)\n",
    "heat_df.shape"
   ]
  },
  {
   "cell_type": "code",
   "execution_count": null,
   "metadata": {},
   "outputs": [],
   "source": [
    "import seaborn as sns\n",
    "sns.heatmap(heat_df);"
   ]
  },
  {
   "cell_type": "code",
   "execution_count": null,
   "metadata": {},
   "outputs": [],
   "source": []
  },
  {
   "cell_type": "code",
   "execution_count": null,
   "metadata": {},
   "outputs": [],
   "source": []
  },
  {
   "cell_type": "code",
   "execution_count": null,
   "metadata": {},
   "outputs": [],
   "source": []
  },
  {
   "cell_type": "code",
   "execution_count": null,
   "metadata": {},
   "outputs": [],
   "source": [
    "## Try graphs from this link: https://towardsdatascience.com/the-art-of-effective-visualization-of-multi-dimensional-data-6c7202990c57\n"
   ]
  },
  {
   "cell_type": "code",
   "execution_count": null,
   "metadata": {},
   "outputs": [],
   "source": [
    "file_name_new=\"/Users/saraj/PycharmProjects/AnalysisScripts/Data/SOOrigVsNonOrigAuthors-2.csv\"\n",
    "SO_edit_authors = pd.read_csv(file_name_new)\n",
    "SO_edit_authors.head()"
   ]
  },
  {
   "cell_type": "code",
   "execution_count": null,
   "metadata": {},
   "outputs": [],
   "source": [
    "import matplotlib\n",
    "outfile=\"SOContributors.png\"\n",
    "font = {'family' : 'normal',\n",
    "        'size'   : 10}\n",
    "plt.rcParams.update({'font.size': 10})\n",
    "plt.rc('axes', labelsize=16)\n",
    "\n",
    "matplotlib.rc('font', **font)\n",
    "SO_edit_authors = SO_edit_authors[SO_edit_authors[\"EditNumber\"] < 40]\n",
    "SO_edit_authors = SO_edit_authors[SO_edit_authors[\"EditNumber\"] > 0]\n",
    "edit_numbers = np.array(SO_edit_authors[\"EditNumber\"])\n",
    "orig_authors = np.array(SO_edit_authors[\"OrigAuthorEdits\"])\n",
    "SO_edit_authors['NotOrigAuthor'] = SO_edit_authors[\"NumberOfPosts\"] - SO_edit_authors[\"OrigAuthorEdits\"]\n",
    "non_orig_authors = np.array(SO_edit_authors[\"NotOrigAuthor\"])\n",
    "print (SO_edit_authors.head(n=6))\n",
    "plt.figure(figsize=(10,10))\n",
    "\n",
    "width = 0.35 \n",
    "p1 = plt.bar(edit_numbers, orig_authors, width)\n",
    "p2 = plt.bar(edit_numbers, non_orig_authors, width, bottom=orig_authors)\n",
    "plt.ylabel('Number of Posts')\n",
    "# plt.title('Contributions by Orig Author vs Non-original author')\n",
    "plt.xlabel('Edit Number')\n",
    "# plt.xticks(ind, ('G1', 'G2', 'G3', 'G4', 'G5'))\n",
    "# plt.yticks(np.arange(0, 81, 10))\n",
    "plt.legend((p1[0], p2[0]), ('Original Author', 'Non-Original Author'))\n",
    "plt.savefig(outfile)\n",
    "#plt.show()\n",
    "plt.show()"
   ]
  },
  {
   "cell_type": "code",
   "execution_count": null,
   "metadata": {},
   "outputs": [],
   "source": [
    "edit_numbers"
   ]
  },
  {
   "cell_type": "markdown",
   "metadata": {},
   "source": [
    "#### GH Author distribution"
   ]
  },
  {
   "cell_type": "code",
   "execution_count": null,
   "metadata": {},
   "outputs": [],
   "source": [
    "gh_file_name_new=\"/Users/saraj/PycharmProjects/AnalysisScripts/Data/OrigAuthorVsNonOrigAuthor-2.csv\"\n",
    "gh_edit_authors = pd.read_csv(gh_file_name_new)\n",
    "gh_edit_authors.head()"
   ]
  },
  {
   "cell_type": "code",
   "execution_count": null,
   "metadata": {},
   "outputs": [],
   "source": [
    "outfile=\"GHContributors.png\"\n",
    "gh_edit_authors = gh_edit_authors[gh_edit_authors[\"CommitNumber\"] > 0]\n",
    "gh_edit_authors = gh_edit_authors[gh_edit_authors[\"CommitNumber\"] < 72]\n",
    "\n",
    "edit_numbers = np.array(gh_edit_authors[\"CommitNumber\"])\n",
    "orig_authors = np.array(gh_edit_authors[\"OrigAuthorCommits\"])\n",
    "gh_edit_authors[\"NotOrigAuthor\"] = gh_edit_authors[\"NumberOfSnips\"] - gh_edit_authors[\"OrigAuthorCommits\"]\n",
    "non_orig_authors = np.array(gh_edit_authors[\"NotOrigAuthor\"])\n",
    "print (SO_edit_authors.head(n=6))\n",
    "plt.figure(figsize=(10,10))\n",
    "\n",
    "width = 0.35 \n",
    "p1 = plt.bar(edit_numbers, orig_authors, width)\n",
    "p2 = plt.bar(edit_numbers, non_orig_authors, width, bottom=orig_authors)\n",
    "plt.ylabel('Number of Code Snippets')\n",
    "plt.title('')\n",
    "plt.xlabel('Revision Number')\n",
    "# plt.xticks(ind, ('G1', 'G2', 'G3', 'G4', 'G5'))\n",
    "# plt.yticks(np.arange(0, 81, 10))\n",
    "plt.legend((p1[0], p2[0]), ('Original Author', 'Non-Original Author'))\n",
    "plt.savefig(outfile)\n",
    "plt.show()"
   ]
  },
  {
   "cell_type": "code",
   "execution_count": null,
   "metadata": {},
   "outputs": [],
   "source": [
    "evolution_df = pd.read_csv(\"/Users/saraj/PycharmProjects/AnalysisScripts/Data/COEvolutionTimeLine.csv\")\n",
    "evolution_df.head()"
   ]
  },
  {
   "cell_type": "code",
   "execution_count": null,
   "metadata": {},
   "outputs": [],
   "source": [
    "evolution_df[\"TimeSTamp\"] += 4189"
   ]
  },
  {
   "cell_type": "code",
   "execution_count": null,
   "metadata": {},
   "outputs": [],
   "source": [
    "evolution_df.head()"
   ]
  },
  {
   "cell_type": "code",
   "execution_count": null,
   "metadata": {},
   "outputs": [],
   "source": [
    "time_line = np.array(evolution_df[\"TimeSTamp\"])\n",
    "post_evolving = np.array(evolution_df[\"NumberOfPostsEvolving\"])\n",
    "post_created = np.array(evolution_df[\"NumberOfPostsCreated\"])\n",
    "code_snippets_evolving = np.array(evolution_df[\"NumberOfCodeSnipsEvolving\"])\n",
    "code_snippets_created = np.array(evolution_df[\"NumberOfCodeSnipsCreated\"])\n",
    "co_evolving_pairs = np.array(evolution_df[\"Co-evolving pairs\"])\n"
   ]
  },
  {
   "cell_type": "code",
   "execution_count": null,
   "metadata": {},
   "outputs": [],
   "source": [
    "import matplotlib.transforms as mtransforms\n",
    "from matplotlib import patches\n",
    "fig = plt.figure(figsize=(10,10))\n",
    "gs1 = gridspec.GridSpec(2, 1, figure=fig)\n",
    "gs1.update(wspace=0.07, hspace=0) \n",
    "\n",
    "ax0 = plt.subplot(gs1[0])\n",
    "ax1 = plt.subplot(gs1[1])\n",
    "# ax2 = plt.subplot(gs1[2])\n",
    "ax1.plot(time_line, post_evolving, color=\"red\", alpha=0.5, label=\"Stack Overflow Post\")\n",
    "ax1.plot(time_line, post_created, color=\"black\", label=\"Post Created\")\n",
    "ax0.plot(time_line, code_snippets_evolving, color=\"green\")\n",
    "# ax0.plot(time_line, code_snippets_created, color=\"black\")\n",
    "ax0.plot(time_line, co_evolving_pairs, color=\"blue\")\n",
    "ax1.plot(time_line, co_evolving_pairs, color=\"blue\")\n",
    "ax0.plot(time_line, code_snippets_created, color=\"red\")\n",
    "ax0.set_ylabel(\"# evolving SO posts\", linespacing=3)\n",
    "ax0.set_ylabel(\"# evolving GH code snippets\", linespacing=3)\n",
    "ax0.set_ylabel(\"# co-evolving SO-GH pairs\", linespacing=3)\n",
    "ax0.set_xlabel(\"Time in number of days\", linespacing=3)\n",
    "#ax0.fill_between(x, y1, y2, where=y2 >= y1, facecolor='green', interpolate=True)\n",
    "\n",
    "### (X,Y)\n",
    "rect1 = patches.Rectangle((2400,1210), 10, 2250, color='grey')\n",
    "rect2 = patches.Rectangle((2400,310), 10, 900, color='yellow')\n",
    "rect3 = patches.Rectangle((2400,0), 10, 310, color='pink')\n",
    "ax0.add_patch(rect1)\n",
    "ax0.add_patch(rect2)\n",
    "ax0.add_patch(rect3)\n",
    "plt.show()"
   ]
  },
  {
   "cell_type": "code",
   "execution_count": null,
   "metadata": {},
   "outputs": [],
   "source": [
    "# Another Try to make it look good. \n",
    "\n",
    "\n",
    "fig = plt.figure(figsize=(10,10))\n",
    "gs1 = gridspec.GridSpec(2, 1, figure=fig)\n",
    "gs1.update(wspace=0.07, hspace=0) \n",
    "\n",
    "ax0 = plt.subplot(gs1[0])\n",
    "ax1 = plt.subplot(gs1[1])\n",
    "y_min = post_evolving.min()\n",
    "alpha = 0.5\n",
    "\n",
    "# ax2 = plt.subplot(gs1[2])\n",
    "gc1 = ax0.plot(time_line, code_snippets_created, color=\"black\", label=\"somethin\")\n",
    "gcf1 = ax0.fill_between(time_line, y_min, code_snippets_created, color=\"orange\", alpha=alpha)\n",
    "ge1 = ax0.plot(time_line, code_snippets_evolving, color=\"black\")\n",
    "gef1 = ax0.fill_between(time_line, code_snippets_evolving.min(), code_snippets_evolving, color=\"green\", alpha=alpha)\n",
    "gce1 = ax0.plot(time_line, co_evolving_pairs, color=\"black\")\n",
    "gcef1 = ax0.fill_between(time_line, co_evolving_pairs.min(), co_evolving_pairs, color=\"blue\", alpha=alpha)\n",
    "\n",
    "ax0.set_ylabel(\"# GH code snippets\", linespacing=3)\n",
    "ax0.set_xlabel(\"Time in number of days\", linespacing=3)\n",
    "ax0.legend([gcf1, gef1, gcef1 ], ['Stable Snippets', 'Evolving Snippets', 'Co-Evolving Snippets'])\n",
    "\n",
    "\n",
    "### Plot 2\n",
    "ax1.plot(time_line, post_created, color=\"black\", label=\"Post Created\")\n",
    "scf1 = ax1.fill_between(time_line,post_created.min(), post_created, color=\"orange\", label=\"Post Created\", alpha=alpha)\n",
    "ax1.plot(time_line, post_evolving, color=\"black\", label=\"Stack Overflow Post\")\n",
    "sef1 = ax1.fill_between(time_line, post_evolving.min(), post_evolving, color=\"green\", label=\"Stack Overflow Post\", alpha=alpha)\n",
    "ax1.plot(time_line, co_evolving_pairs, color=\"black\")\n",
    "scef1 = ax1.fill_between(time_line, co_evolving_pairs.min(), co_evolving_pairs, color=\"blue\", alpha=alpha)\n",
    "ax1.set_ylabel(\"# SO Posts\", linespacing=3)\n",
    "ax1.set_xlabel(\"Time in number of days\", linespacing=3)\n",
    "ax1.legend([scf1, sef1, scef1 ], ['Stable Posts', 'Evolving Posts', 'Co-Evolving Posts'])\n",
    "#ax0.fill_between(x, y1, y2, where=y2 >= y1, facecolor='green', interpolate=True)\n",
    "\n",
    "### (X,Y)\n",
    "# rect1 = patches.Rectangle((2400,1210), 10, 2250, color='grey')\n",
    "# rect2 = patches.Rectangle((2400,310), 10, 900, color='yellow')\n",
    "# rect3 = patches.Rectangle((2400,0), 10, 310, color='pink')\n",
    "# ax0.add_patch(rect1)\n",
    "# ax0.add_patch(rect2)\n",
    "# ax0.add_patch(rect3)\n",
    "outfile=\"CoEvolutionGraph.png\"\n",
    "plt.savefig(outfile)\n",
    "plt.show()"
   ]
  },
  {
   "cell_type": "markdown",
   "metadata": {},
   "source": [
    "## Confusion Matrix"
   ]
  },
  {
   "cell_type": "code",
   "execution_count": null,
   "metadata": {},
   "outputs": [],
   "source": []
  }
 ],
 "metadata": {
  "kernelspec": {
   "display_name": "Python 3",
   "language": "python",
   "name": "python3"
  },
  "language_info": {
   "codemirror_mode": {
    "name": "ipython",
    "version": 3
   },
   "file_extension": ".py",
   "mimetype": "text/x-python",
   "name": "python",
   "nbconvert_exporter": "python",
   "pygments_lexer": "ipython3",
   "version": "3.7.3"
  }
 },
 "nbformat": 4,
 "nbformat_minor": 2
}
